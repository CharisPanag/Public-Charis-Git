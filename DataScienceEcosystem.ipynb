{
 "cells": [
  {
   "cell_type": "markdown",
   "id": "14cf6ba4",
   "metadata": {},
   "source": [
    "# Data Science Tools and Ecosystem"
   ]
  },
  {
   "cell_type": "markdown",
   "id": "2a1b1217",
   "metadata": {},
   "source": [
    "In this notebook, Data Science Tools and Ecosystem are summarized."
   ]
  },
  {
   "cell_type": "markdown",
   "id": "7d0eff1d",
   "metadata": {},
   "source": [
    "**Objectives:**\n",
    "* List popular languages for Data Science\n",
    "* python code \n",
    "* library for data science\n"
   ]
  },
  {
   "cell_type": "markdown",
   "id": "32d40091",
   "metadata": {},
   "source": [
    "Some of the popular languages that Data Scientists use are:\n",
    "- python\n",
    "- SQL\n",
    "- R\n",
    "- JAVA\n",
    "- C++"
   ]
  },
  {
   "cell_type": "markdown",
   "id": "4326c65a",
   "metadata": {},
   "source": [
    "Some of the commonly used libraries used by Data Scientists include:\n",
    "- Pandas\n",
    "- Nampy\n",
    "- TensorFlow\n",
    "- Seaborn"
   ]
  },
  {
   "cell_type": "markdown",
   "id": "c7c39a86",
   "metadata": {},
   "source": [
    "|Data Science Tools|\n",
    "--------\n",
    "|Jupiter|\n",
    "|Rstudio|\n",
    "|Visual Studio Code|"
   ]
  },
  {
   "cell_type": "markdown",
   "id": "16751f0c",
   "metadata": {},
   "source": [
    "### Below are a few examples of evaluating arithmetic expressions in Python\n",
    "x=10\n",
    "y=20\n",
    "result=y-x\n",
    "print(result)"
   ]
  },
  {
   "cell_type": "code",
   "execution_count": 3,
   "id": "e6f9ae48",
   "metadata": {},
   "outputs": [
    {
     "name": "stdout",
     "output_type": "stream",
     "text": [
      "17\n"
     ]
    }
   ],
   "source": [
    "#This a simple arithmetic expression to mutiply then add integers\n",
    "result=(3*4)+5\n",
    "print(result)"
   ]
  },
  {
   "cell_type": "code",
   "execution_count": 4,
   "id": "c4207042",
   "metadata": {},
   "outputs": [
    {
     "name": "stdout",
     "output_type": "stream",
     "text": [
      "3.3333333333333335\n"
     ]
    }
   ],
   "source": [
    "#his will convert 200 minutes to hours by diving by 60\n",
    "result=200/60\n",
    "print(result)"
   ]
  },
  {
   "cell_type": "markdown",
   "id": "624a70e5",
   "metadata": {},
   "source": [
    "## Author\n",
    "Charis Panagiotidis"
   ]
  },
  {
   "cell_type": "code",
   "execution_count": null,
   "id": "a5bc191d",
   "metadata": {},
   "outputs": [],
   "source": []
  }
 ],
 "metadata": {
  "kernelspec": {
   "display_name": "Python 3 (ipykernel)",
   "language": "python",
   "name": "python3"
  },
  "language_info": {
   "codemirror_mode": {
    "name": "ipython",
    "version": 3
   },
   "file_extension": ".py",
   "mimetype": "text/x-python",
   "name": "python",
   "nbconvert_exporter": "python",
   "pygments_lexer": "ipython3",
   "version": "3.11.5"
  }
 },
 "nbformat": 4,
 "nbformat_minor": 5
}
